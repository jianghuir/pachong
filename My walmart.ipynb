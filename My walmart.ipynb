{
 "cells": [
  {
   "cell_type": "code",
   "execution_count": null,
   "id": "425d6c92",
   "metadata": {},
   "outputs": [],
   "source": [
    "抓了70+数据后就突然不work了"
   ]
  },
  {
   "cell_type": "code",
   "execution_count": 46,
   "id": "825f7ead",
   "metadata": {},
   "outputs": [],
   "source": [
    "from urllib.request import Request, urlopen\n",
    "from selenium import webdriver\n",
    "from bs4 import BeautifulSoup\n",
    "from datetime import datetime, timedelta\n",
    "import numpy as np\n",
    "import time\n",
    "import random\n",
    "import os\n",
    "import json"
   ]
  },
  {
   "cell_type": "code",
   "execution_count": 50,
   "id": "868a4e05",
   "metadata": {},
   "outputs": [],
   "source": [
    "class MyWalmart():\n",
    "    def get_soup(self, url):\n",
    "        \"\"\"\n",
    "        This function get the beautifulsoup object of a webpage.\n",
    "\n",
    "        Args:\n",
    "            url (str): the link string of webpage\n",
    "\n",
    "        Returns:\n",
    "            soup (obj): beautifulsoup object\n",
    "        \"\"\"\n",
    "        request = Request(url, headers={'User-Agent': 'Resistance is futile'})\n",
    "        response = urlopen(request)\n",
    "        return BeautifulSoup(response, \"html.parser\")\n",
    "    \n",
    "    def get_product_links_from_page(self, url):\n",
    "        \"\"\"\n",
    "        This function gets the links of the product on the product search page page.\n",
    "\n",
    "        Args:\n",
    "            url (str): link to joblist page\n",
    "\n",
    "        Returns:\n",
    "            links (list): list of links to individual products of the keyword\n",
    "        \"\"\"\n",
    "             \n",
    "        soup = self.get_soup(url)\n",
    "        head = \"https://www.walmart.com\"  \n",
    "        links = []\n",
    "        for item in soup.find_all(\"a\", href=True):\n",
    "            if 'link-identifier=' in str(item) and '/ip/' in str(item):  \n",
    "                link = item['href']\n",
    "                links.append(head+link)\n",
    "        return links\n",
    "     \n",
    "    def get_products(self, keyword):\n",
    "        \"\"\"\n",
    "        Args:\n",
    "            keyword (str): example: 'Christmas tree'\n",
    "\n",
    "        Returns:\n",
    "        \"\"\"\n",
    "        gap_min = 5 #min sleep time between clicks\n",
    "        gap_max = 10 #max sleep time between clicks\n",
    "        \n",
    "        url = \"https://www.walmart.com/search?q=\"\n",
    "        keyword_list = keyword.split()\n",
    "        \n",
    "        for i in range(len(keyword_list)):\n",
    "            url+='%20'\n",
    "            url+=keyword_list[i]    \n",
    "\n",
    "            #get links individual products with the keyword\n",
    "        links = self.get_product_links_from_page(url)\n",
    "        #print(links)\n",
    "        #get information of individual products\n",
    "        for link in links:\n",
    "            gap = np.random.uniform(gap_min,gap_max) \n",
    "            time.sleep(gap)\n",
    "            data = self.get_info_from_product_page(link)\n",
    "\n",
    "            print(json.dumps(data))\n",
    "            \n",
    "    def get_info_from_product_page(self, url):\n",
    "        \"\"\"\n",
    "        This function get info from the webpage of an individual product.\n",
    "\n",
    "        Args:\n",
    "            url (str): link to the product webpage\n",
    "\n",
    "        Returns:\n",
    "            data (dict): dictionary with keywords: \n",
    "                         item, price, link\n",
    "        \"\"\"\n",
    "        soup = self.get_soup(url)\n",
    "        data = {}\n",
    "        \n",
    "        try:\n",
    "            data['item'] = soup.find('h1', itemprop=\"name\").getText()\n",
    "            data[\"price\"] = soup.find('span', itemprop=\"price\").getText()\n",
    "            data[\"link\"] = str(url)\n",
    "        except:\n",
    "            pass\n",
    "        return data\n"
   ]
  },
  {
   "cell_type": "code",
   "execution_count": 51,
   "id": "260131e4",
   "metadata": {},
   "outputs": [],
   "source": [
    "w = MyWalmart()"
   ]
  },
  {
   "cell_type": "code",
   "execution_count": 49,
   "id": "e981f715",
   "metadata": {},
   "outputs": [
    {
     "name": "stdout",
     "output_type": "stream",
     "text": [
      "['https://www.walmart.com/ip/Holiday-Time-Pre-Lit-Madison-Pine-Artificial-Christmas-Tree-Mini-Clear-Lights-6-5/589992850?athbdg=L1600', 'https://www.walmart.com/ip/BrylaneHome-Clear-LED-Green-Fully-Decorated-Prelit-Full-Pop-Up-Christmas-Tree-6/738325115?athbdg=L1700', 'https://www.walmart.com/ip/BrylaneHome-Clear-LED-Green-Fully-Decorated-Prelit-Full-Pop-Up-Christmas-Tree-6/738325115?variantFieldId=actual_color', 'https://www.walmart.com/ip/Brylanehome-Christmas-Fully-Decorated-Pre-Lit-6-Foot-Pop-Up-Christmas-Tree-Plaid/612016119?variantFieldId=actual_color', 'https://www.walmart.com/ip/Brylanehome-Christmas-Fully-Decorated-Pre-Lit-7-1-2-Pop-Up-Christmas-Tree-Red-Gold/111095917?variantFieldId=actual_color', 'https://www.walmart.com/ip/Brylanehome-Christmas-Fully-Decorated-Pre-Lit-6-Foot-Pop-Up-Christmas-Tree-Silver-Gold/347811374?variantFieldId=actual_color', 'https://www.walmart.com/ip/Holiday-Time-Fiber-Optic-Concord-Christmas-Tree-32-inch/51707568?athbdg=L1600', 'https://www.walmart.com/ip/Holiday-Time-6-5Ft-Arlington-Tree-with-350-Clear-Incandescent-Mini-Lights-with-Tree-Top-Connector/674429940', 'https://www.walmart.com/ip/Holiday-Time-Christmas-3-Foot-Wilbur-Elf-Tree-Clear-Lights/795397065', 'https://www.walmart.com/ip/SWTROOM-4-5ft-Snow-Flocked-Artificial-Holiday-Christmas-Pine-Tree-Home-Office-Party-Decoration-200-Warm-White-Lights-400-Branch-Tips-Metal-Hinges-Bas/361613060', 'https://www.walmart.com/ip/Holiday-Time-Non-Lit-Wesley-Pine-Artificial-Christmas-Tree-6/321306591', 'https://www.walmart.com/ip/Best-Choice-Products-Clear-LED-Green-Prelit-Pine-Holiday-Christmas-Tree-with-Snow-Flocked-Branches-including-250-Lights-6/733093410?athbdg=L1700', 'https://www.walmart.com/ip/Holiday-Time-Pre-Lit-Indiana-Spruce-Artificial-White-Christmas-Tree-Multicolor-Incandescent-Lights-4/603528576?athbdg=L1600', 'https://www.walmart.com/ip/Best-Choice-Products-6ft-Pre-Lit-Spruce-Hinged-Artificial-Christmas-Tree-w-250-Incandescent-Lights-Foldable-Stand/799683497?athbdg=L1700']\n",
      "{\"item\": \"Holiday Time Pre-Lit Madison Pine Artificial Christmas Tree, Mini Clear Lights, 6.5'\", \"price\": \"$39.00\", \"link\": \"https://www.walmart.com/ip/Holiday-Time-Pre-Lit-Madison-Pine-Artificial-Christmas-Tree-Mini-Clear-Lights-6-5/589992850?athbdg=L1600\"}\n",
      "{\"item\": \"BrylaneHome Clear LED Green Fully Decorated Prelit Full Pop-Up Christmas Tree, 6'\", \"price\": \"$129.99\", \"link\": \"https://www.walmart.com/ip/BrylaneHome-Clear-LED-Green-Fully-Decorated-Prelit-Full-Pop-Up-Christmas-Tree-6/738325115?athbdg=L1700\"}\n",
      "{\"item\": \"BrylaneHome Clear LED Green Fully Decorated Prelit Full Pop-Up Christmas Tree, 6'\", \"price\": \"$129.99\", \"link\": \"https://www.walmart.com/ip/BrylaneHome-Clear-LED-Green-Fully-Decorated-Prelit-Full-Pop-Up-Christmas-Tree-6/738325115?variantFieldId=actual_color\"}\n",
      "{\"item\": \"Brylanehome Christmas Fully Decorated Pre-Lit 6 Foot Pop-Up Christmas Tree, Plaid\", \"price\": \"$129.99\", \"link\": \"https://www.walmart.com/ip/Brylanehome-Christmas-Fully-Decorated-Pre-Lit-6-Foot-Pop-Up-Christmas-Tree-Plaid/612016119?variantFieldId=actual_color\"}\n",
      "{\"item\": \"Brylanehome Christmas Fully Decorated Pre-Lit 7 1/2' Pop-Up Christmas Tree, Red Gold\", \"price\": \"$187.66\", \"link\": \"https://www.walmart.com/ip/Brylanehome-Christmas-Fully-Decorated-Pre-Lit-7-1-2-Pop-Up-Christmas-Tree-Red-Gold/111095917?variantFieldId=actual_color\"}\n",
      "{\"item\": \"Brylanehome Christmas Fully Decorated Pre-Lit 6 Foot Pop-Up Christmas Tree, Silver Gold\", \"price\": \"$129.99\", \"link\": \"https://www.walmart.com/ip/Brylanehome-Christmas-Fully-Decorated-Pre-Lit-6-Foot-Pop-Up-Christmas-Tree-Silver-Gold/347811374?variantFieldId=actual_color\"}\n",
      "{\"item\": \"Holiday Time Fiber Optic Concord Christmas Tree 32 inch\", \"price\": \"$16.00\", \"link\": \"https://www.walmart.com/ip/Holiday-Time-Fiber-Optic-Concord-Christmas-Tree-32-inch/51707568?athbdg=L1600\"}\n",
      "{\"item\": \"Holiday Time 6.5Ft Arlington Tree with 350 Clear Incandescent Mini Lights with Tree Top Connector\", \"price\": \"$69.00\", \"link\": \"https://www.walmart.com/ip/Holiday-Time-6-5Ft-Arlington-Tree-with-350-Clear-Incandescent-Mini-Lights-with-Tree-Top-Connector/674429940\"}\n",
      "{\"item\": \"Holiday Time Christmas 3 Foot Wilbur Elf Tree Clear Lights\", \"price\": \"$22.00\", \"link\": \"https://www.walmart.com/ip/Holiday-Time-Christmas-3-Foot-Wilbur-Elf-Tree-Clear-Lights/795397065\"}\n",
      "{\"item\": \"SWTROOM 4.5ft Snow Flocked Artificial Holiday Christmas Pine Tree for Home, Office and Party Decoration with 200 Warm White Lights, 400 Branch Tips,Metal Hinges & Base\", \"price\": \"$69.99\", \"link\": \"https://www.walmart.com/ip/SWTROOM-4-5ft-Snow-Flocked-Artificial-Holiday-Christmas-Pine-Tree-Home-Office-Party-Decoration-200-Warm-White-Lights-400-Branch-Tips-Metal-Hinges-Bas/361613060\"}\n",
      "{\"item\": \"Holiday Time Non-Lit Wesley Pine Artificial Christmas Tree, 6'\", \"price\": \"$22.00\", \"link\": \"https://www.walmart.com/ip/Holiday-Time-Non-Lit-Wesley-Pine-Artificial-Christmas-Tree-6/321306591\"}\n",
      "{\"item\": \"Best Choice Products Clear LED Green Prelit Pine Holiday Christmas Tree, with Snow Flocked Branches including 250 Lights 6'\", \"price\": \"$149.99\", \"link\": \"https://www.walmart.com/ip/Best-Choice-Products-Clear-LED-Green-Prelit-Pine-Holiday-Christmas-Tree-with-Snow-Flocked-Branches-including-250-Lights-6/733093410?athbdg=L1700\"}\n",
      "{\"item\": \"Holiday Time Pre-Lit Indiana Spruce Artificial White Christmas Tree, Multicolor Incandescent Lights, 4'\", \"price\": \"$25.00\", \"link\": \"https://www.walmart.com/ip/Holiday-Time-Pre-Lit-Indiana-Spruce-Artificial-White-Christmas-Tree-Multicolor-Incandescent-Lights-4/603528576?athbdg=L1600\"}\n",
      "{\"item\": \"Best Choice Products 6ft Pre-Lit Spruce Hinged Artificial Christmas Tree w/ 250 Incandescent Lights, Foldable Stand\", \"price\": \"$134.99\", \"link\": \"https://www.walmart.com/ip/Best-Choice-Products-6ft-Pre-Lit-Spruce-Hinged-Artificial-Christmas-Tree-w-250-Incandescent-Lights-Foldable-Stand/799683497?athbdg=L1700\"}\n"
     ]
    }
   ],
   "source": [
    "w.get_products('Christmas tree')"
   ]
  },
  {
   "cell_type": "code",
   "execution_count": 52,
   "id": "58b088eb",
   "metadata": {},
   "outputs": [
    {
     "name": "stdout",
     "output_type": "stream",
     "text": [
      "{\"item\": \"Champion Men's Script Logo Classic Graphic Jersey Tee\", \"price\": \"$18.75\", \"link\": \"https://www.walmart.com/ip/Champion-Men-s-Script-Logo-Classic-Graphic-Jersey-Tee/235705252?athbdg=L1300\"}\n",
      "{\"item\": \"Champion Men's Script Logo Classic Graphic Jersey Tee\", \"price\": \"$18.75\", \"link\": \"https://www.walmart.com/ip/Champion-Men-s-Script-Logo-Classic-Graphic-Jersey-Tee/514004290?variantFieldId=actual_color\"}\n",
      "{\"item\": \"Champion Men's Script Logo Classic Graphic Jersey Tee\", \"price\": \"$14.30\", \"link\": \"https://www.walmart.com/ip/Champion-Men-s-Script-Logo-Classic-Graphic-Jersey-Tee/891092661?variantFieldId=actual_color\"}\n",
      "{\"item\": \"Champion Men's Script Logo Classic Graphic Jersey Tee, Sizes S-2XL\", \"price\": \"$11.50\", \"link\": \"https://www.walmart.com/ip/Champion-Men-s-Script-Logo-Classic-Graphic-Jersey-Tee-Sizes-S-2XL/888574890?variantFieldId=actual_color\"}\n",
      "{\"item\": \"Champion Men's Script Logo Classic Graphic Jersey Tee\", \"price\": \"$14.30\", \"link\": \"https://www.walmart.com/ip/Champion-Men-s-Script-Logo-Classic-Graphic-Jersey-Tee/819663347?variantFieldId=actual_color\"}\n",
      "{\"item\": \"Dockers Men's Signature Comfort Flex Button-Down Shirt\", \"price\": \"$39.99\", \"link\": \"https://www.walmart.com/ip/Dockers-Men-s-Signature-Comfort-Flex-Button-Down-Shirt/229766243?athbdg=L1400\"}\n",
      "{\"item\": \"Dockers Men's Long Sleeve Comfort Flex Button Down Shirt\", \"price\": \"$22.41\", \"link\": \"https://www.walmart.com/ip/Dockers-Men-s-Long-Sleeve-Comfort-Flex-Button-Down-Shirt/495008021?variantFieldId=actual_color\"}\n",
      "{\"item\": \"Dockers Men's Signature Comfort Flex Button-Down Shirt\", \"price\": \"$21.84\", \"link\": \"https://www.walmart.com/ip/Dockers-Men-s-Signature-Comfort-Flex-Button-Down-Shirt/963890267?variantFieldId=actual_color\"}\n",
      "{\"item\": \"Dockers Men's Signature Comfort Flex Button-Down Shirt\", \"price\": \"$39.99\", \"link\": \"https://www.walmart.com/ip/Dockers-Men-s-Signature-Comfort-Flex-Button-Down-Shirt/229766243?variantFieldId=actual_color\"}\n",
      "{\"item\": \"Dockers Men's Long Sleeve Comfort Flex Button Down Shirt\", \"price\": \"$25.81\", \"link\": \"https://www.walmart.com/ip/Dockers-Men-s-Long-Sleeve-Comfort-Flex-Button-Down-Shirt/142531224?variantFieldId=actual_color\"}\n",
      "{\"item\": \"Russell Men's and Big Men's Core Jersey Active T-Shirt, up to Size 2XL\", \"price\": \"$9.44\", \"link\": \"https://www.walmart.com/ip/Russell-Men-s-and-Big-Men-s-Core-Jersey-Active-T-Shirt-up-to-Size-2XL/951783894?athbdg=L1700\"}\n",
      "{\"item\": \"Russell Men's and Big Men's Core Jersey Active T-Shirt, up to Size 2XL\", \"price\": \"$9.44\", \"link\": \"https://www.walmart.com/ip/Russell-Men-s-and-Big-Men-s-Core-Jersey-Active-T-Shirt-up-to-Size-2XL/899135019?variantFieldId=actual_color\"}\n",
      "{\"item\": \"Russell Men's and Big Men's Core Jersey Active T-Shirt, up to Size 2XL\", \"price\": \"$9.44\", \"link\": \"https://www.walmart.com/ip/Russell-Men-s-and-Big-Men-s-Core-Jersey-Active-T-Shirt-up-to-Size-2XL/648463900?variantFieldId=actual_color\"}\n",
      "{\"item\": \"Russell Men's and Big Men's Core Jersey Active T-Shirt, up to Size 2XL\", \"price\": \"$9.44\", \"link\": \"https://www.walmart.com/ip/Russell-Men-s-and-Big-Men-s-Core-Jersey-Active-T-Shirt-up-to-Size-2XL/951783894?variantFieldId=actual_color\"}\n",
      "{\"item\": \"Russell Men's and Big Men's Core Jersey Active Camo T-Shirt, Up to Size 5XL\", \"price\": \"$9.44\", \"link\": \"https://www.walmart.com/ip/Russell-Men-s-and-Big-Men-s-Core-Jersey-Active-Camo-T-Shirt-Up-to-Size-5XL/768533039?variantFieldId=actual_color\"}\n",
      "{\"item\": \"Endless Summer Men's Flamingo Short Sleeve Swim Shirt, up to Size 2XL\", \"price\": \"$41.67\", \"link\": \"https://www.walmart.com/ip/Endless-Summer-Men-s-Flamingo-Short-Sleeve-Swim-Shirt-up-to-Size-2XL/380726353?athbdg=L1300\"}\n",
      "{\"item\": \"Champion Men\\u2019s Script Logo Classic Graphic Long Sleeve T-Shirt\", \"price\": \"$18.00\", \"link\": \"https://www.walmart.com/ip/Champion-Men-s-Script-Logo-Classic-Graphic-Long-Sleeve-T-Shirt/206097346?athbdg=L1300\"}\n",
      "{\"item\": \"Champion Men\\u2019s Script Logo Classic Graphic Long Sleeve T-Shirt\", \"price\": \"$18.00\", \"link\": \"https://www.walmart.com/ip/Champion-Men-s-Script-Logo-Classic-Graphic-Long-Sleeve-T-Shirt/546650138?variantFieldId=actual_color\"}\n",
      "{\"item\": \"Champion Men\\u2019s Script Logo Classic Graphic Long Sleeve T-Shirt\", \"price\": \"$18.00\", \"link\": \"https://www.walmart.com/ip/Champion-Men-s-Script-Logo-Classic-Graphic-Long-Sleeve-T-Shirt/206097346?variantFieldId=actual_color\"}\n",
      "{\"item\": \"Champion Men's Script Logo Classic Long Sleeve Graphic Tee Shirt, Sizes S-2XL, Champion Long Sleeve Mens T-Shirts\", \"price\": \"$22.50\", \"link\": \"https://www.walmart.com/ip/Champion-Men-s-Script-Logo-Classic-Long-Sleeve-Graphic-Tee-Shirt-Sizes-S-2XL-Champion-Long-Sleeve-Mens-T-Shirts/295759360?variantFieldId=actual_color\"}\n",
      "{\"item\": \"Champion Men\\u2019s Script Logo Classic Graphic Long Sleeve T-Shirt\", \"price\": \"$18.00\", \"link\": \"https://www.walmart.com/ip/Champion-Men-s-Script-Logo-Classic-Graphic-Long-Sleeve-T-Shirt/654582723?variantFieldId=actual_color\"}\n",
      "{\"item\": \"U.S. Polo Assn. Men\\u2019s Long Sleeve Button Down Plaid Shirt\", \"price\": \"$17.98\", \"link\": \"https://www.walmart.com/ip/U-S-Polo-Assn-Men-s-Long-Sleeve-Button-Down-Plaid-Shirt/406161179?athbdg=L1400\"}\n",
      "{\"item\": \"U.S. Polo Assn. Men\\u2019s Long Sleeve Button Down Plaid Shirt\", \"price\": \"$15.94\", \"link\": \"https://www.walmart.com/ip/U-S-Polo-Assn-Men-s-Long-Sleeve-Button-Down-Plaid-Shirt/429397722?variantFieldId=actual_color\"}\n",
      "{\"item\": \"U.S. Polo Assn. Men\\u2019s Long Sleeve Button Down Plaid Shirt\", \"price\": \"$17.98\", \"link\": \"https://www.walmart.com/ip/U-S-Polo-Assn-Men-s-Long-Sleeve-Button-Down-Plaid-Shirt/542384260?variantFieldId=actual_color\"}\n",
      "{\"item\": \"U.S. Polo Assn. Men\\u2019s Long Sleeve Button Down Plaid Shirt\", \"price\": \"$15.94\", \"link\": \"https://www.walmart.com/ip/U-S-Polo-Assn-Men-s-Long-Sleeve-Button-Down-Plaid-Shirt/763700348?variantFieldId=actual_color\"}\n",
      "{\"item\": \"U.S. Polo Assn. Men\\u2019s Long Sleeve Button Down Plaid Shirt\", \"price\": \"$17.98\", \"link\": \"https://www.walmart.com/ip/U-S-Polo-Assn-Men-s-Long-Sleeve-Button-Down-Plaid-Shirt/406161179?variantFieldId=actual_color\"}\n"
     ]
    }
   ],
   "source": [
    "w.get_products('mens shirt')"
   ]
  },
  {
   "cell_type": "code",
   "execution_count": 53,
   "id": "3115f8b2",
   "metadata": {},
   "outputs": [
    {
     "name": "stdout",
     "output_type": "stream",
     "text": [
      "{\"item\": \"TOBBI Kids Electric Train Railway Car Track Toy W/ Steam Locomotive Engine, Cargo Car and Tracks, Realistic Sounds, for Boys and Girls over 3, Christmas Gift\", \"price\": \"$29.99\", \"link\": \"https://www.walmart.com/ip/TOBBI-Kids-Electric-Train-Railway-Car-Track-Toy-W-Steam-Locomotive-Engine-Cargo-Tracks-Realistic-Sounds-Boys-Girls-3-Christmas-Gift/503050822?athbdg=L1700\"}\n",
      "{\"item\": \"Spark. Create. Imagine. Wooden Train Play Set, 75 Pieces [Walmart Exclusive]\", \"price\": \"$14.82\", \"link\": \"https://www.walmart.com/ip/Spark-Create-Imagine-Wooden-Train-Play-Set-75-Pieces-Walmart-Exclusive/623779730\"}\n",
      "{\"item\": \"Train Set - 2020 Updated Electric Train Toy for Boys Girls w/ Smokes, Lights & Sound, Railway Kits w/ Steam Locomotive Engine, Cargo Cars & Tracks, for 3 4 5 6 7 8+ Year Old Kids\", \"price\": \"$64.29\", \"link\": \"https://www.walmart.com/ip/Train-Set-2020-Updated-Electric-Toy-Boys-Girls-w-Smokes-Lights-Sound-Railway-Kits-Steam-Locomotive-Engine-Cargo-Cars-Tracks-3-4-5-6-7-8-Year-Old-Kids/642694138\"}\n",
      "{\"item\": \"Holiday Time Christmas Sweets Train Ready to Play Tree Train Electric Powered Model Train Sets\", \"price\": \"$29.88\", \"link\": \"https://www.walmart.com/ip/Holiday-Time-Christmas-Sweets-Train-Ready-to-Play-Tree-Train-Electric-Powered-Model-Train-Sets/53085729\"}\n",
      "{\"item\": \"Play22USA Wooden Train Tracks - 52 PCS Wooden Train Set Plus 2 Bonus Toy Trains - Train Sets For Kids - Car Train Toys Is Compatible With Thomas Wooden Railway Systems and All Major Brands\", \"price\": \"$23.99\", \"link\": \"https://www.walmart.com/ip/Play22USA-Wooden-Train-Tracks-52-PCS-Set-Plus-2-Bonus-Toy-Trains-Sets-For-Kids-Car-Toys-Is-Compatible-With-Thomas-Railway-Systems-All-Major-Brands/905357814\"}\n",
      "{\"item\": \"Lionel Polar Express Battery Operated Model Train Set with Remote Control\", \"price\": \"$69.98\", \"link\": \"https://www.walmart.com/ip/Lionel-Polar-Express-Battery-Operated-Model-Train-Set-with-Remote-Control/51086222?athbdg=L1800\"}\n",
      "{\"item\": \"Blue Block Factory Kids Battery Operated Electric Railway Train Set for Play\", \"price\": \"$26.95\", \"link\": \"https://www.walmart.com/ip/Blue-Block-Factory-Kids-Battery-Operated-Electric-Railway-Train-Set-for-Play/925908228\"}\n",
      "{\"item\": \"Thomas & Friends Fisher-Price Thomas Annie & Clarabel Motorized Toy Model Train Locomotive\", \"price\": \"$28.74\", \"link\": \"https://www.walmart.com/ip/Thomas-Friends-Fisher-Price-Thomas-Annie-Clarabel-Motorized-Toy-Model-Train-Locomotive/449315289\"}\n",
      "{\"item\": \"Fisher-Price Thomas & Friends Thomas & James Push-Along Train Set\", \"price\": \"$6.88\", \"link\": \"https://www.walmart.com/ip/Fisher-Price-Thomas-Friends-Thomas-James-Push-Along-Train-Set/424851801?athbdg=L1300\"}\n"
     ]
    }
   ],
   "source": [
    "w.get_products('toy train')"
   ]
  },
  {
   "cell_type": "code",
   "execution_count": 54,
   "id": "9fba21b4",
   "metadata": {},
   "outputs": [
    {
     "name": "stdout",
     "output_type": "stream",
     "text": [
      "{\"item\": \"Linenspa Dreamer 12\\\" Hybrid Mattress, Queen\", \"price\": \"$359.00\", \"link\": \"https://www.walmart.com/ip/Linenspa-Dreamer-12-Hybrid-Mattress-Queen/380185983?athbdg=L1600\"}\n",
      "{\"item\": \"NapQueen Victoria 10\\\" Hybrid Mattress, Queen\", \"price\": \"$259.00\", \"link\": \"https://www.walmart.com/ip/NapQueen-Victoria-10-Hybrid-Mattress-Queen/950372005\"}\n",
      "{\"item\": \"Lucid Refresh\\u2122 12\\\" Gel Memory Foam Mattress, Firm, Queen\", \"price\": \"$399.00\", \"link\": \"https://www.walmart.com/ip/Lucid-Refresh-12-Gel-Memory-Foam-Mattress-Firm-Queen/47903264\"}\n",
      "{\"item\": \"Mainstays 10\\\" Memory Foam Mattress, Queen\", \"price\": \"$339.00\", \"link\": \"https://www.walmart.com/ip/Mainstays-10-Memory-Foam-Mattress-Queen/864876146\"}\n",
      "{\"item\": \"Spa Sensations by Zinus Serenity 12\\\" Memory Foam Mattress, Queen\", \"price\": \"$369.00\", \"link\": \"https://www.walmart.com/ip/Spa-Sensations-by-Zinus-Serenity-12-Memory-Foam-Mattress-Queen/6538605?athbdg=L1600\"}\n",
      "{\"item\": \"Classic Brands Cool Gel 12\\\" Gel Memory Foam Mattress, Queen\", \"price\": \"$289.98\", \"link\": \"https://www.walmart.com/ip/Classic-Brands-Cool-Gel-12-Gel-Memory-Foam-Mattress-Queen/41975143\"}\n",
      "{\"item\": \"Signature Design by Ashley 12\\\" Chime, Hybrid Mattress, Queen\", \"price\": \"$299.00\", \"link\": \"https://www.walmart.com/ip/Signature-Design-by-Ashley-12-Chime-Hybrid-Mattress-Queen/862995923\"}\n",
      "{\"item\": \"Spa Sensations by Zinus 6\\u201d Green Tea Memory Foam Mattress, Queen\", \"price\": \"$272.00\", \"link\": \"https://www.walmart.com/ip/Spa-Sensations-by-Zinus-6-Green-Tea-Memory-Foam-Mattress-Queen/341006087\"}\n"
     ]
    }
   ],
   "source": [
    "w.get_products('queen size matress')"
   ]
  },
  {
   "cell_type": "code",
   "execution_count": 55,
   "id": "bf87af08",
   "metadata": {},
   "outputs": [
    {
     "name": "stdout",
     "output_type": "stream",
     "text": [
      "{\"item\": \"Ty Owlette the Grey Gray and White Owl Beanie Boos Stuffed Animal Plush Toy\", \"price\": \"$11.89\", \"link\": \"https://www.walmart.com/ip/Ty-Owlette-the-Grey-Gray-and-White-Owl-Beanie-Boos-Stuffed-Animal-Plush-Toy/179000270\"}\n",
      "{\"item\": \"Ty Wise the Owl with Scarf Beanie Boos Stuffed Plush Animal Toy\", \"price\": \"$16.95\", \"link\": \"https://www.walmart.com/ip/Ty-Wise-the-Owl-with-Scarf-Beanie-Boos-Stuffed-Plush-Animal-Toy/188019223\"}\n",
      "{\"item\": \"Plush Woodland Animals with Country House Carrier for Kids- 5pc- Talking Animal Interactive Toy Set- Stuffed Owl, Racoon, Fox & Squirrel\", \"price\": \"$17.99\", \"link\": \"https://www.walmart.com/ip/Plush-Woodland-Animals-with-Country-House-Carrier-for-Kids-5pc-Talking-Animal-Interactive-Toy-Set-Stuffed-Owl-Racoon-Fox-Squirrel/520123581?athbdg=L1700\"}\n",
      "{\"item\": \"Plush Owl Bean Filled Stuffed Animal 5 inch\", \"price\": \"$6.73\", \"link\": \"https://www.walmart.com/ip/Plush-Owl-Bean-Filled-Stuffed-Animal-5-inch/783551597\"}\n",
      "{\"item\": \"Great Horned Owl Plush Toy 7\", \"price\": \"$11.97\", \"link\": \"https://www.walmart.com/ip/Great-Horned-Owl-Plush-Toy-7/116583340\"}\n",
      "{\"item\": \"Douglas Cuddle Toys Legend Snowy Owl Stuffed Plush Animal\", \"price\": \"$28.86\", \"link\": \"https://www.walmart.com/ip/Douglas-Cuddle-Toys-Legend-Snowy-Owl-Stuffed-Plush-Animal/390979070\"}\n",
      "{\"item\": \"Douglas Owl Lil\\u2019 Handful Plush Stuffed Animal\", \"price\": \"$11.95\", \"link\": \"https://www.walmart.com/ip/Douglas-Owl-Lil-Handful-Plush-Stuffed-Animal/786611953\"}\n",
      "{\"item\": \"Manhattan Toy Squeezmeez Squeezable Owl Stuffed Animal\", \"price\": \"$6.99\", \"link\": \"https://www.walmart.com/ip/Manhattan-Toy-Squeezmeez-Squeezable-Owl-Stuffed-Animal/641466910\"}\n",
      "{\"item\": \"Auswella Plush 12 Inch  White Snowy Owl- Stuffed Animal Owl Plushie\", \"price\": \"$16.97\", \"link\": \"https://www.walmart.com/ip/Auswella-Plush-12-Inch-White-Snowy-Owl-Stuffed-Animal-Owl-Plushie/352546177\"}\n",
      "{\"item\": \"Shimmeez, Large Size Leo Owl, Sequin Plush Stuffed Animal\", \"price\": \"$18.97\", \"link\": \"https://www.walmart.com/ip/Shimmeez-Large-Size-Leo-Owl-Sequin-Plush-Stuffed-Animal/165587543\"}\n"
     ]
    }
   ],
   "source": [
    "w.get_products('stuffed animal owl')"
   ]
  },
  {
   "cell_type": "code",
   "execution_count": null,
   "id": "638f9bb9",
   "metadata": {},
   "outputs": [],
   "source": []
  }
 ],
 "metadata": {
  "kernelspec": {
   "display_name": "Python 3",
   "language": "python",
   "name": "python3"
  },
  "language_info": {
   "codemirror_mode": {
    "name": "ipython",
    "version": 3
   },
   "file_extension": ".py",
   "mimetype": "text/x-python",
   "name": "python",
   "nbconvert_exporter": "python",
   "pygments_lexer": "ipython3",
   "version": "3.8.8"
  }
 },
 "nbformat": 4,
 "nbformat_minor": 5
}
